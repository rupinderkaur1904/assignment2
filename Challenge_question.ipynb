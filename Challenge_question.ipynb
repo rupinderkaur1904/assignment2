{
  "nbformat": 4,
  "nbformat_minor": 0,
  "metadata": {
    "colab": {
      "provenance": [],
      "authorship_tag": "ABX9TyPYYpgCQlQk/5BzEgXp5SPh",
      "include_colab_link": true
    },
    "kernelspec": {
      "name": "python3",
      "display_name": "Python 3"
    },
    "language_info": {
      "name": "python"
    }
  },
  "cells": [
    {
      "cell_type": "markdown",
      "metadata": {
        "id": "view-in-github",
        "colab_type": "text"
      },
      "source": [
        "<a href=\"https://colab.research.google.com/github/rupinderkaur1904/assignment2/blob/main/Challenge_question.ipynb\" target=\"_parent\"><img src=\"https://colab.research.google.com/assets/colab-badge.svg\" alt=\"Open In Colab\"/></a>"
      ]
    },
    {
      "cell_type": "code",
      "execution_count": 2,
      "metadata": {
        "colab": {
          "base_uri": "https://localhost:8080/"
        },
        "id": "7c0NtghDGMZn",
        "outputId": "437c407d-aec6-43b4-d1d8-63bec93098f7"
      },
      "outputs": [
        {
          "output_type": "stream",
          "name": "stdout",
          "text": [
            "[1, 2, 3, 'Aman', 'Ram', 'Shyam']\n"
          ]
        }
      ],
      "source": [
        "L = [\"Ram\",1,\"Shyam\",2,\"Aman\",3]\n",
        "l1  = []\n",
        "l2 = []\n",
        "for i in L:\n",
        "  try:\n",
        "    l1.append(int(i))\n",
        "  except:\n",
        "    l2.append(i)\n",
        "l1.sort()\n",
        "l2.sort()\n",
        "l3 = l1+l2\n",
        "print(l3)"
      ]
    }
  ]
}